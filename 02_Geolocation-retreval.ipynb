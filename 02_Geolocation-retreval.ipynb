{
 "cells": [
  {
   "cell_type": "code",
   "execution_count": null,
   "id": "8e295764-4a61-454c-883c-8bdd8f338b4e",
   "metadata": {},
   "outputs": [],
   "source": [
    "import warnings\n",
    "warnings.filterwarnings(\"ignore\", category=FutureWarning)"
   ]
  },
  {
   "cell_type": "code",
   "execution_count": null,
   "id": "b97569b6-690e-460b-aadd-c7461ae656c4",
   "metadata": {},
   "outputs": [],
   "source": [
    "import pandas as pd\n",
    "import matplotlib.pyplot as plt\n",
    "import numpy as np\n",
    "import urllib\n",
    "import json"
   ]
  },
  {
   "cell_type": "code",
   "execution_count": null,
   "id": "4b0d6cb0-3963-4e85-9e7d-3bfd73e719a7",
   "metadata": {},
   "outputs": [],
   "source": [
    "pd.set_option('display.max_rows', None)\n",
    "pd.set_option('display.max_columns', None)"
   ]
  },
  {
   "cell_type": "code",
   "execution_count": null,
   "id": "fbccf247-65f3-48b9-9bbb-b993f02fcf47",
   "metadata": {},
   "outputs": [],
   "source": [
    "df = pd.read_csv('btmp_03.csv')"
   ]
  },
  {
   "cell_type": "code",
   "execution_count": null,
   "id": "665d1bd6-fc5e-4862-a0d4-f30c39d98942",
   "metadata": {},
   "outputs": [],
   "source": [
    "df = df.drop(['Unnamed: 0.1','Unnamed: 0'], axis=1)"
   ]
  },
  {
   "cell_type": "code",
   "execution_count": null,
   "id": "68ed477c-003e-444c-88fa-9d2b77e15483",
   "metadata": {},
   "outputs": [],
   "source": [
    "df_geo = pd.DataFrame(columns=['ip','success','type','continent','continent_code','country_code','country_flag','country_capital',\n",
    " 'country_phone','country_neighbours','region','city','latitude', 'longitude','asn','org','isp','timezone','timezone_name',\n",
    " 'timezone_dstOffset','timezone_gmtOffset','timezone_gmt','currency','currency_code','currency_symbol','currency_rates',\n",
    " 'currency_plural','completed_requests'])"
   ]
  },
  {
   "cell_type": "code",
   "execution_count": null,
   "id": "5a61b07d-1851-49bf-895a-2d2f03b473f5",
   "metadata": {},
   "outputs": [],
   "source": [
    "#With this code all the geolocation data collected\n",
    "ip_data = df['HostName_1'].unique()\n",
    "for i in range(len(ip_data)):\n",
    "   ip = ip_data[i]\n",
    "   response = urllib.request.urlopen(\"http://ipwhois.app/json/\"+ip)\n",
    "   ipgeolocation = json.load(response)\n",
    "   df_geo = df_geo.append({'ip':ipgeolocation['ip'],'success':ipgeolocation['success'],'type':ipgeolocation['type'],'continent':ipgeolocation['continent'],'continent_code':ipgeolocation['continent_code'],'country_code':ipgeolocation['country_code'],'country_flag':ipgeolocation['country_flag'],'country_capital':ipgeolocation['country_capital'],\n",
    "'country_phone':ipgeolocation['country_phone'],'country_neighbours':ipgeolocation['country_neighbours'],'region':ipgeolocation['region'],'city':ipgeolocation['city'],'latitude':ipgeolocation['latitude'], 'longitude':ipgeolocation['longitude'],'asn':ipgeolocation['asn'],'org':ipgeolocation['org'],'isp':ipgeolocation['isp'],'timezone':ipgeolocation['timezone'],'timezone_name':ipgeolocation['timezone_name'],\n",
    "'timezone_dstOffset':ipgeolocation['timezone_dstOffset'],'timezone_gmtOffset':ipgeolocation['timezone_gmtOffset'],'timezone_gmt':ipgeolocation['timezone_gmt'],'currency':ipgeolocation['currency'],'currency_code':ipgeolocation['currency_code'],'currency_symbol':ipgeolocation['currency_symbol'],'currency_rates':ipgeolocation['currency_rates'],\n",
    "'currency_plural':ipgeolocation['currency_plural'],'completed_requests':ipgeolocation['completed_requests']},  ignore_index=True)"
   ]
  },
  {
   "cell_type": "code",
   "execution_count": null,
   "id": "90ea66ee",
   "metadata": {},
   "outputs": [],
   "source": [
    "merged_df = pd.merge(df, df_geo, left_on='HostName_1', right_on='ip', how='left')"
   ]
  }
 ],
 "metadata": {
  "kernelspec": {
   "display_name": "Python 3 (ipykernel)",
   "language": "python",
   "name": "python3"
  },
  "language_info": {
   "codemirror_mode": {
    "name": "ipython",
    "version": 3
   },
   "file_extension": ".py",
   "mimetype": "text/x-python",
   "name": "python",
   "nbconvert_exporter": "python",
   "pygments_lexer": "ipython3",
   "version": "3.10.8"
  }
 },
 "nbformat": 4,
 "nbformat_minor": 5
}
