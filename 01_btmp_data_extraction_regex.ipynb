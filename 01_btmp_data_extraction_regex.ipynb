{
 "cells": [
  {
   "cell_type": "code",
   "execution_count": null,
   "id": "fe3a02de-9ef1-4e85-91af-672f926755de",
   "metadata": {},
   "outputs": [],
   "source": [
    "# This code takes the data from btmp_1.txt and saves it to a csv file with formatted data structure"
   ]
  },
  {
   "cell_type": "code",
   "execution_count": 23,
   "id": "4a7a9808-2dcf-46a5-b0ee-4bb1309f0ad4",
   "metadata": {},
   "outputs": [],
   "source": [
    "import warnings\n",
    "warnings.filterwarnings(\"ignore\", category=FutureWarning)"
   ]
  },
  {
   "cell_type": "code",
   "execution_count": 24,
   "id": "e275596d-f1d1-4a34-9643-e47bfb91ce63",
   "metadata": {},
   "outputs": [],
   "source": [
    "import pandas as pd\n",
    "import re"
   ]
  },
  {
   "cell_type": "code",
   "execution_count": 25,
   "id": "bc6e8866-a0e6-4caf-9dde-32ba3ee2caea",
   "metadata": {},
   "outputs": [],
   "source": [
    "with open('/var/log/btmp_1.txt') as f:\n",
    "    lines = f.readlines()"
   ]
  },
  {
   "cell_type": "code",
   "execution_count": 26,
   "id": "2f215c86-75ca-441c-aaa1-9433494e32de",
   "metadata": {},
   "outputs": [],
   "source": [
    "df = pd.DataFrame(columns=['ut_type','PID','UserName','DeviceName', 'HostName_1','HostName_2', 'DateTime', 'HourTime' ])"
   ]
  },
  {
   "cell_type": "code",
   "execution_count": null,
   "id": "62d78402-742e-40fe-8f65-818bb9fba4c9",
   "metadata": {},
   "outputs": [],
   "source": [
    "for i in range(0, len(lines)):\n",
    "    line_regex = re.findall('[[a-zA-Z0-9:,.:+,_,!,@,#,$,`,~,^,*,),(,=,|,<,>,/,;,\",},{,?,&,%,-]+', lines[i])\n",
    "    try:\n",
    "        df = df.append({'ut_type':line_regex[0][1:] ,'PID': line_regex[1][1:], 'UserName':line_regex[3][1:], 'DeviceName':line_regex[4][1:], 'HostName_1':line_regex[5][1:],'HostName_2':line_regex[6][1:], 'DateTime':line_regex[7][1:11], 'HourTime':line_regex[7][12:20]},  ignore_index=True)\n",
    "    except:\n",
    "        print(i)\n",
    "        pass"
   ]
  },
  {
   "cell_type": "code",
   "execution_count": 29,
   "id": "f391107b-02f7-4bfa-99be-88246e343b6b",
   "metadata": {},
   "outputs": [
    {
     "data": {
      "text/plain": [
       "'[6] [80758] [    ] [root    ] [ssh:notty   ] [218.92.0.195        ] [218.92.0.195   ] [2022-03-01T00:50:14,000000+00:00]\\n'"
      ]
     },
     "execution_count": 29,
     "metadata": {},
     "output_type": "execute_result"
    }
   ],
   "source": [
    "lines[235]"
   ]
  },
  {
   "cell_type": "code",
   "execution_count": null,
   "id": "299deba8-34ae-4c55-b364-96f1816cd5b7",
   "metadata": {},
   "outputs": [],
   "source": [
    "df.to_csv('btmp.csv')"
   ]
  }
 ],
 "metadata": {
  "kernelspec": {
   "display_name": "Python 3 (ipykernel)",
   "language": "python",
   "name": "python3"
  },
  "language_info": {
   "codemirror_mode": {
    "name": "ipython",
    "version": 3
   },
   "file_extension": ".py",
   "mimetype": "text/x-python",
   "name": "python",
   "nbconvert_exporter": "python",
   "pygments_lexer": "ipython3",
   "version": "3.10.8"
  }
 },
 "nbformat": 4,
 "nbformat_minor": 5
}
