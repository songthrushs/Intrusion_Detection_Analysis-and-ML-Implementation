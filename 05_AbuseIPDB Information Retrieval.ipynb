{
 "cells": [
  {
   "cell_type": "code",
   "execution_count": null,
   "id": "8c5100ad",
   "metadata": {},
   "outputs": [],
   "source": [
    "import pandas as pd"
   ]
  },
  {
   "cell_type": "code",
   "execution_count": null,
   "id": "e58b559c",
   "metadata": {},
   "outputs": [],
   "source": [
    "df = pd.read_csv('input_last_version_1.csv')"
   ]
  },
  {
   "cell_type": "code",
   "execution_count": null,
   "id": "70a5fc95",
   "metadata": {},
   "outputs": [],
   "source": [
    "# filteres the HostName with the count number is less than 16\n",
    "counts = df['HostName'].value_counts()\n",
    "filtered_df = df[df['HostName'].isin(counts[counts < 16].index)].reset_index(drop=True)"
   ]
  },
  {
   "cell_type": "code",
   "execution_count": null,
   "id": "d642474f",
   "metadata": {},
   "outputs": [],
   "source": [
    "decoded_responses_list = filtered_df['HostName'].unique().tolist()"
   ]
  },
  {
   "cell_type": "code",
   "execution_count": null,
   "id": "595b785c",
   "metadata": {},
   "outputs": [],
   "source": [
    "#connects to abuseipdb and checks if the IP is reported in the last 90 days\n",
    "\n",
    "import requests\n",
    "import json\n",
    "\n",
    "# Define the api-endpoint\n",
    "url = 'https://api.abuseipdb.com/api/v2/check'\n",
    "\n",
    "# Create an empty list to store data\n",
    "data_list = []\n",
    "\n",
    "for decoded_response in decoded_responses_list:\n",
    "    querystring = {\n",
    "        'ipAddress': decoded_response,\n",
    "        'maxAgeInDays': '90'\n",
    "    }\n",
    "\n",
    "    headers = {\n",
    "        'Accept': 'application/json',\n",
    "        'Key': 'Use your own key'\n",
    "    }\n",
    "\n",
    "    response = requests.get(url=url, headers=headers, params=querystring)\n",
    "\n",
    "    # Check if the response is successful (status code 200)\n",
    "    if response.status_code == 200:\n",
    "        result = response.json()\n",
    "        ip_address = result['data']['ipAddress']\n",
    "        last_reported_at = result['data']['lastReportedAt']\n",
    "\n",
    "        # Append data to the list\n",
    "        data_list.append({'IPAddress': ip_address, 'LastReportedAt': last_reported_at})\n",
    "    else:\n",
    "        print(f\"Error for {decoded_response}: {response.status_code}\")\n",
    "\n",
    "# Check if data_list is not empty before creating the DataFrame\n",
    "if data_list:\n",
    "    # Convert the list of dictionaries to a DataFrame\n",
    "    df = pd.DataFrame(data_list)\n",
    "\n",
    "    # Display the DataFrame\n",
    "    print(df)\n",
    "else:\n",
    "    print(\"No data to create DataFrame.\")"
   ]
  },
  {
   "cell_type": "code",
   "execution_count": null,
   "id": "ecd3e412",
   "metadata": {},
   "outputs": [],
   "source": [
    "df.to_csv('IP_last_seen', index=False)"
   ]
  }
 ],
 "metadata": {
  "kernelspec": {
   "display_name": "Python 3 (ipykernel)",
   "language": "python",
   "name": "python3"
  },
  "language_info": {
   "codemirror_mode": {
    "name": "ipython",
    "version": 3
   },
   "file_extension": ".py",
   "mimetype": "text/x-python",
   "name": "python",
   "nbconvert_exporter": "python",
   "pygments_lexer": "ipython3",
   "version": "3.10.8"
  }
 },
 "nbformat": 4,
 "nbformat_minor": 5
}
